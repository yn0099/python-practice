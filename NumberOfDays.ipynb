{
  "nbformat": 4,
  "nbformat_minor": 0,
  "metadata": {
    "colab": {
      "name": "Untitled0.ipynb",
      "provenance": [],
      "authorship_tag": "ABX9TyM486MTDU23vE867YoF9tDz",
      "include_colab_link": true
    },
    "kernelspec": {
      "name": "python3",
      "display_name": "Python 3"
    },
    "language_info": {
      "name": "python"
    }
  },
  "cells": [
    {
      "cell_type": "markdown",
      "metadata": {
        "id": "view-in-github",
        "colab_type": "text"
      },
      "source": [
        "<a href=\"https://colab.research.google.com/github/yn0099/python-practice/blob/practice/NumberOfDays.ipynb\" target=\"_parent\"><img src=\"https://colab.research.google.com/assets/colab-badge.svg\" alt=\"Open In Colab\"/></a>"
      ]
    },
    {
      "cell_type": "markdown",
      "metadata": {
        "id": "NXCjBb8w-kkS"
      },
      "source": [
        "Your first function"
      ]
    },
    {
      "cell_type": "code",
      "metadata": {
        "id": "PvVbycAv-noR",
        "colab": {
          "base_uri": "https://localhost:8080/"
        },
        "outputId": "2799e2a3-aada-47fe-fdc9-62a5b1ed6aea"
      },
      "source": [
        "def isYearLeap(year):\n",
        "    if year % 4 == 0 and (year % 100 != 0 or year % 400 == 0):\n",
        "        return True\n",
        "        \n",
        "def daysInMonth(year, month):\n",
        "    listOfDaysInMonth = [31, 28, 31, 30, 31, 30, 31, 31, 30, 31, 30, 31]\n",
        "    if (isYearLeap(year) == True) and (month == 2):\n",
        "        return 29\n",
        "    return listOfDaysInMonth[month - 1]\n",
        "    \n",
        "year = int(input(\"Enter a year: \"))\n",
        "month = int(input(\"Enter a month: \"))\n",
        "print(\"Number of days:\", daysInMonth(year, month))\n",
        "\n",
        "# test\n",
        "testYears = [1900, 2000, 2016, 1987]\n",
        "testMonths = [2, 2, 1, 11]\n",
        "testResults = [28, 29, 31, 30]\n",
        "for i in range(len(testYears)):\n",
        "\tyr = testYears[i]\n",
        "\tmo = testMonths[i]\n",
        "\tprint(yr, mo, \"->\", end=\"\")\n",
        "\tresult = daysInMonth(yr, mo)\n",
        "\tif result == testResults[i]:\n",
        "\t\tprint(\"OK\")\n",
        "\telse:\n",
        "\t\tprint(\"Failed\")"
      ],
      "execution_count": 1,
      "outputs": [
        {
          "output_type": "stream",
          "name": "stdout",
          "text": [
            "1900 2 ->OK\n",
            "2000 2 ->OK\n",
            "2016 1 ->OK\n",
            "1987 11 ->OK\n"
          ]
        }
      ]
    }
  ]
}