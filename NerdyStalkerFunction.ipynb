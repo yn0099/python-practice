{
  "nbformat": 4,
  "nbformat_minor": 0,
  "metadata": {
    "colab": {
      "name": "Untitled0.ipynb",
      "provenance": [],
      "authorship_tag": "ABX9TyM86UsBqWpuGXOPDguF5lS9",
      "include_colab_link": true
    },
    "kernelspec": {
      "name": "python3",
      "display_name": "Python 3"
    },
    "language_info": {
      "name": "python"
    }
  },
  "cells": [
    {
      "cell_type": "markdown",
      "metadata": {
        "id": "view-in-github",
        "colab_type": "text"
      },
      "source": [
        "<a href=\"https://colab.research.google.com/github/yn0099/python-practice/blob/practice/NerdyStalkerFunction.ipynb\" target=\"_parent\"><img src=\"https://colab.research.google.com/assets/colab-badge.svg\" alt=\"Open In Colab\"/></a>"
      ]
    },
    {
      "cell_type": "markdown",
      "metadata": {
        "id": "NXCjBb8w-kkS"
      },
      "source": [
        "Practice "
      ]
    },
    {
      "cell_type": "code",
      "metadata": {
        "id": "PvVbycAv-noR",
        "colab": {
          "base_uri": "https://localhost:8080/"
        },
        "outputId": "005fd4f3-9b4a-46f8-f2d3-d7bfb3e93f3e"
      },
      "source": [
        "def MyNerdyStalkerFunction(jlpt, location):\n",
        "    if jlpt <= 3:\n",
        "        if location == \"Aichi\" or location == \"Shizuoka\":\n",
        "            return \"embedded\"\n",
        "        else:\n",
        "            return \"web dev\"\n",
        "    else:\n",
        "        return \"eikaiwa\"\n",
        "\n",
        "jlpt = int(input(\"What's his JLPT level? \"))\n",
        "location = input(\"Where does he live? \")\n",
        "print(\"He is in\", MyNerdyStalkerFunction(jlpt, location))"
      ],
      "execution_count": 4,
      "outputs": [
        {
          "output_type": "stream",
          "name": "stdout",
          "text": [
            "What's his JLPT level? 3\n",
            "Where does he live? Osaka\n",
            "He is in web dev\n"
          ]
        }
      ]
    }
  ]
}