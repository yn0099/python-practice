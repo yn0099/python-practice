{
  "nbformat": 4,
  "nbformat_minor": 0,
  "metadata": {
    "colab": {
      "name": "Untitled0.ipynb",
      "provenance": [],
      "authorship_tag": "ABX9TyMOqMvebBLgaFoKUFwe46Aq",
      "include_colab_link": true
    },
    "kernelspec": {
      "name": "python3",
      "display_name": "Python 3"
    },
    "language_info": {
      "name": "python"
    }
  },
  "cells": [
    {
      "cell_type": "markdown",
      "metadata": {
        "id": "view-in-github",
        "colab_type": "text"
      },
      "source": [
        "<a href=\"https://colab.research.google.com/github/yn0099/python-practice/blob/practice/PrimeNumber.ipynb\" target=\"_parent\"><img src=\"https://colab.research.google.com/assets/colab-badge.svg\" alt=\"Open In Colab\"/></a>"
      ]
    },
    {
      "cell_type": "markdown",
      "metadata": {
        "id": "NXCjBb8w-kkS"
      },
      "source": [
        "Practice "
      ]
    },
    {
      "cell_type": "code",
      "metadata": {
        "id": "PvVbycAv-noR",
        "colab": {
          "base_uri": "https://localhost:8080/"
        },
        "outputId": "a0b14062-20a0-4cfa-8f2a-2ae4dba11720"
      },
      "source": [
        "def isPrime(num):\n",
        "    for i in range(2, num - 1):\n",
        "        if num % i == 0:\n",
        "            return False\n",
        "    return True\n",
        "\n",
        "num = int(input(\"Enter a natural number greater than 1: \"))\n",
        "print(\"Prime?\", isPrime(num))\n",
        "\n",
        "# test\n",
        "for i in range(1, 20):\n",
        "\tif isPrime(i + 1):\n",
        "\t\tprint(i + 1, end=\" \")"
      ],
      "execution_count": 4,
      "outputs": [
        {
          "output_type": "stream",
          "name": "stdout",
          "text": [
            "Enter a natural number greater than 1: 4\n",
            "Prime? False\n",
            "2 3 5 7 11 13 17 19 "
          ]
        }
      ]
    }
  ]
}