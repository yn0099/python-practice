{
  "nbformat": 4,
  "nbformat_minor": 0,
  "metadata": {
    "colab": {
      "name": "Untitled0.ipynb",
      "provenance": [],
      "authorship_tag": "ABX9TyM2bnQlSjbBL85CYzgstK+v",
      "include_colab_link": true
    },
    "kernelspec": {
      "name": "python3",
      "display_name": "Python 3"
    },
    "language_info": {
      "name": "python"
    }
  },
  "cells": [
    {
      "cell_type": "markdown",
      "metadata": {
        "id": "view-in-github",
        "colab_type": "text"
      },
      "source": [
        "<a href=\"https://colab.research.google.com/github/yn0099/python-practice/blob/practice/test.ipynb\" target=\"_parent\"><img src=\"https://colab.research.google.com/assets/colab-badge.svg\" alt=\"Open In Colab\"/></a>"
      ]
    },
    {
      "cell_type": "markdown",
      "metadata": {
        "id": "NXCjBb8w-kkS"
      },
      "source": [
        "Your first function"
      ]
    },
    {
      "cell_type": "code",
      "metadata": {
        "colab": {
          "base_uri": "https://localhost:8080/"
        },
        "id": "PvVbycAv-noR",
        "outputId": "1a1c931a-3f05-413d-d3f2-e43ff1f20784"
      },
      "source": [
        "def message():\n",
        "    print(\"Enter a value: \")\n",
        "\n",
        "print(\"We start here.\")\n",
        "message()\n",
        "print(\"We end here.\")"
      ],
      "execution_count": 1,
      "outputs": [
        {
          "output_type": "stream",
          "text": [
            "We start here.\n",
            "Enter a value: \n",
            "We end here.\n"
          ],
          "name": "stdout"
        }
      ]
    }
  ]
}