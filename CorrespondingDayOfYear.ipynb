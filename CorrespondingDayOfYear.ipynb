{
  "nbformat": 4,
  "nbformat_minor": 0,
  "metadata": {
    "colab": {
      "name": "Untitled0.ipynb",
      "provenance": [],
      "authorship_tag": "ABX9TyOzqfLfr8BwrhTvBRxIGfu/",
      "include_colab_link": true
    },
    "kernelspec": {
      "name": "python3",
      "display_name": "Python 3"
    },
    "language_info": {
      "name": "python"
    }
  },
  "cells": [
    {
      "cell_type": "markdown",
      "metadata": {
        "id": "view-in-github",
        "colab_type": "text"
      },
      "source": [
        "<a href=\"https://colab.research.google.com/github/yn0099/python-practice/blob/practice/CorrespondingDayOfYear.ipynb\" target=\"_parent\"><img src=\"https://colab.research.google.com/assets/colab-badge.svg\" alt=\"Open In Colab\"/></a>"
      ]
    },
    {
      "cell_type": "markdown",
      "metadata": {
        "id": "NXCjBb8w-kkS"
      },
      "source": [
        "Your first function"
      ]
    },
    {
      "cell_type": "code",
      "metadata": {
        "id": "PvVbycAv-noR",
        "colab": {
          "base_uri": "https://localhost:8080/"
        },
        "outputId": "37e58297-24e7-446d-8647-1ec83e8616eb"
      },
      "source": [
        "def isYearLeap(year):\n",
        "    if year % 4 == 0 and (year % 100 != 0 or year % 400 == 0):\n",
        "        return True\n",
        "\n",
        "def daysInMonth(year, month):\n",
        "    listOfDaysInMonth = [31, 28, 31, 30, 31, 30, 31, 31, 30, 31, 30, 31]\n",
        "    if (isYearLeap(year) == True) and (month == 2):\n",
        "        return 29\n",
        "    return listOfDaysInMonth[month - 1]\n",
        "\n",
        "def dayOfYear(year, month, day):\n",
        "    if year < 1582:\n",
        "        return None\n",
        "    elif (month < 1) or (12 < month):\n",
        "        return None\n",
        "    elif (day < 1) or (daysInMonth(year, month) < day):\n",
        "        return None\n",
        "    for i in range(1, month):\n",
        "        day += daysInMonth(year, i)\n",
        "    return day\n",
        "    \n",
        "year = int(input(\"Enter a year: \"))\n",
        "month = int(input(\"Enter a month: \"))\n",
        "day = int(input(\"Enter a day: \"))\n",
        "print(\"The corresponding day of the year:\", dayOfYear(year, month, day))\n",
        "\n",
        "# test\n",
        "print(dayOfYear(2000, 12, 31))"
      ],
      "execution_count": 3,
      "outputs": [
        {
          "output_type": "stream",
          "name": "stdout",
          "text": [
            "Enter a year: 1581\n",
            "Enter a month: 2\n",
            "Enter a day: 2\n",
            "The corresponding day of the year: None\n",
            "366\n"
          ]
        }
      ]
    }
  ]
}